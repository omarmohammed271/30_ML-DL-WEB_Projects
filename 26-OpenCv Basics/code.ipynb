{
 "cells": [
  {
   "cell_type": "code",
   "execution_count": 1,
   "id": "fc35bf00-b854-40d3-adf8-d1d59015b957",
   "metadata": {
    "canvas": {
     "comments": [],
     "componentType": "CodeCell",
     "copiedOriginId": null,
     "diskcache": false,
     "headerColor": "transparent",
     "id": "d14b9c53-3ae2-4a08-a366-48daede86952",
     "isComponent": false,
     "name": "",
     "parents": []
    },
    "tags": []
   },
   "outputs": [
    {
     "name": "stdout",
     "output_type": "stream",
     "text": [
      "Requirement already satisfied: opencv-python in ./opt/anaconda3/envs/deeplearning/lib/python3.10/site-packages (4.8.0.74)\n",
      "Requirement already satisfied: imutils in ./opt/anaconda3/envs/deeplearning/lib/python3.10/site-packages (0.5.4)\n",
      "Requirement already satisfied: numpy>=1.21.2 in ./opt/anaconda3/envs/deeplearning/lib/python3.10/site-packages (from opencv-python) (1.23.5)\n"
     ]
    }
   ],
   "source": [
    "!pip install opencv-python imutils"
   ]
  },
  {
   "cell_type": "code",
   "execution_count": 1,
   "id": "f2eaf9ce-d437-4662-949b-2bd11fa7cff2",
   "metadata": {
    "canvas": {
     "comments": [],
     "componentType": "CodeCell",
     "copiedOriginId": null,
     "diskcache": false,
     "headerColor": "transparent",
     "id": "83065d28-b1fb-436b-8198-8889fe09b6f1",
     "isComponent": false,
     "name": "",
     "parents": []
    }
   },
   "outputs": [],
   "source": [
    "import imutils\n",
    "import cv2"
   ]
  },
  {
   "cell_type": "code",
   "execution_count": 2,
   "id": "063a8e2d-7668-474a-bdc6-4bf12e8a94fc",
   "metadata": {
    "canvas": {
     "comments": [],
     "componentType": "CodeCell",
     "copiedOriginId": null,
     "diskcache": false,
     "headerColor": "transparent",
     "id": "755faf20-80d1-47fd-93e7-d617997cd031",
     "isComponent": false,
     "name": "",
     "parents": []
    }
   },
   "outputs": [],
   "source": [
    "img = cv2.imread('img.png')"
   ]
  },
  {
   "cell_type": "code",
   "execution_count": 3,
   "id": "b50ab52e-fc2d-4d9b-9be5-0f08828b1177",
   "metadata": {
    "canvas": {
     "comments": [],
     "componentType": "CodeCell",
     "copiedOriginId": null,
     "diskcache": false,
     "headerColor": "transparent",
     "id": "3e2156b3-3c15-467a-95dd-813db9037b46",
     "isComponent": false,
     "name": "",
     "parents": []
    }
   },
   "outputs": [
    {
     "name": "stdout",
     "output_type": "stream",
     "text": [
      "2148\n",
      "3144\n",
      "3\n"
     ]
    }
   ],
   "source": [
    "h,w,d = img.shape\n",
    "print(h)\n",
    "print(w)\n",
    "print(d)"
   ]
  },
  {
   "cell_type": "code",
   "execution_count": 4,
   "id": "a9b0d15a-644d-4ab1-938c-062e1a93c118",
   "metadata": {
    "canvas": {
     "comments": [],
     "componentType": "CodeCell",
     "copiedOriginId": null,
     "diskcache": false,
     "headerColor": "transparent",
     "id": "9ce6df6d-1e9a-454d-86ca-42de4bf3a267",
     "isComponent": false,
     "name": "",
     "parents": []
    }
   },
   "outputs": [
    {
     "data": {
      "text/plain": [
       "32"
      ]
     },
     "execution_count": 4,
     "metadata": {},
     "output_type": "execute_result"
    }
   ],
   "source": [
    "cv2.imshow(\"image\",img)\n",
    "cv2.waitKey(0)"
   ]
  },
  {
   "cell_type": "code",
   "execution_count": 5,
   "id": "ad817475-267b-480e-86ca-67a21e86d82b",
   "metadata": {
    "canvas": {
     "comments": [],
     "componentType": "CodeCell",
     "copiedOriginId": null,
     "diskcache": false,
     "headerColor": "transparent",
     "id": "75c43d89-513e-4861-b6ef-05f8643f57b8",
     "isComponent": false,
     "name": "",
     "parents": []
    }
   },
   "outputs": [
    {
     "name": "stdout",
     "output_type": "stream",
     "text": [
      "15\n",
      "11\n",
      "6\n"
     ]
    }
   ],
   "source": [
    "b,g,r = img[1000,500]\n",
    "print(b)\n",
    "print(g)\n",
    "print(r)"
   ]
  },
  {
   "cell_type": "code",
   "execution_count": 6,
   "id": "d862e30f-ddbe-410f-8247-b8299de69853",
   "metadata": {
    "canvas": {
     "comments": [],
     "componentType": "CodeCell",
     "copiedOriginId": null,
     "diskcache": false,
     "headerColor": "transparent",
     "id": "75f3a9b4-85b7-4d98-9db6-4f7e8078956b",
     "isComponent": false,
     "name": "",
     "parents": []
    }
   },
   "outputs": [
    {
     "data": {
      "text/plain": [
       "32"
      ]
     },
     "execution_count": 6,
     "metadata": {},
     "output_type": "execute_result"
    }
   ],
   "source": [
    "# crop \n",
    "crp = img[100:500 , 500:1000]\n",
    "cv2.imshow(\"SHow\",crp)\n",
    "cv2.waitKey(0)"
   ]
  },
  {
   "cell_type": "code",
   "execution_count": 8,
   "id": "1b83008c-0b4f-4308-8210-8cce6a255d0c",
   "metadata": {
    "canvas": {
     "comments": [],
     "componentType": "CodeCell",
     "copiedOriginId": null,
     "diskcache": false,
     "headerColor": "transparent",
     "id": "339db3c8-04fe-41d2-8aff-8c5619d92aec",
     "isComponent": false,
     "name": "",
     "parents": []
    }
   },
   "outputs": [
    {
     "data": {
      "text/plain": [
       "32"
      ]
     },
     "execution_count": 8,
     "metadata": {},
     "output_type": "execute_result"
    }
   ],
   "source": [
    "# resize \n",
    "rsz = imutils.resize(img,width=500)\n",
    "cv2.imshow(\"SHow\",rsz)\n",
    "cv2.waitKey(0)"
   ]
  },
  {
   "cell_type": "code",
   "execution_count": 12,
   "id": "65cfa47a-93a3-47bc-ba74-4455e002bc0d",
   "metadata": {
    "canvas": {
     "comments": [],
     "componentType": "CodeCell",
     "copiedOriginId": null,
     "diskcache": false,
     "headerColor": "transparent",
     "id": "b83a15ef-f941-447a-9e58-aefe807b8eb0",
     "isComponent": false,
     "name": "",
     "parents": []
    }
   },
   "outputs": [
    {
     "data": {
      "text/plain": [
       "32"
      ]
     },
     "execution_count": 12,
     "metadata": {},
     "output_type": "execute_result"
    }
   ],
   "source": [
    "# rotate \n",
    "center = (w//2 , h//2)\n",
    "\n",
    "rot = cv2.getRotationMatrix2D(center , -45,1)\n",
    "rot2 = cv2.warpAffine(img,rot,(w,h))\n",
    "cv2.imshow(\"SHow\",rot2)\n",
    "cv2.waitKey(0)"
   ]
  },
  {
   "cell_type": "code",
   "execution_count": 14,
   "id": "2d71470f-0df5-4e44-a850-246646499b40",
   "metadata": {
    "canvas": {
     "comments": [],
     "componentType": "CodeCell",
     "copiedOriginId": null,
     "diskcache": false,
     "headerColor": "transparent",
     "id": "79be9abc-f0f0-47e9-8620-525adbd8a46c",
     "isComponent": false,
     "name": "",
     "parents": []
    }
   },
   "outputs": [
    {
     "data": {
      "text/plain": [
       "32"
      ]
     },
     "execution_count": 14,
     "metadata": {},
     "output_type": "execute_result"
    }
   ],
   "source": [
    "rot22 = imutils.rotate(img,45)\n",
    "cv2.imshow(\"SHow 22\",rot22)\n",
    "cv2.waitKey(0)"
   ]
  },
  {
   "cell_type": "code",
   "execution_count": 15,
   "id": "49e53074-bad1-401c-98cf-47cc02f1bab9",
   "metadata": {
    "canvas": {
     "comments": [],
     "componentType": "CodeCell",
     "copiedOriginId": null,
     "diskcache": false,
     "headerColor": "transparent",
     "id": "47e13d65-f218-4af2-8f78-2a72a5475d21",
     "isComponent": false,
     "name": "",
     "parents": []
    }
   },
   "outputs": [
    {
     "data": {
      "text/plain": [
       "32"
      ]
     },
     "execution_count": 15,
     "metadata": {},
     "output_type": "execute_result"
    }
   ],
   "source": [
    "rot22 = imutils.rotate_bound(img,45)\n",
    "cv2.imshow(\"SHow 23\",rot22)\n",
    "cv2.waitKey(0)"
   ]
  },
  {
   "cell_type": "code",
   "execution_count": 23,
   "id": "7f07cfc5-2b77-4f39-b645-9c4c38c0efc6",
   "metadata": {
    "canvas": {
     "comments": [],
     "componentType": "CodeCell",
     "copiedOriginId": null,
     "diskcache": false,
     "headerColor": "transparent",
     "id": "4ebfb9fc-a375-4600-a03a-4639587e1f53",
     "isComponent": false,
     "name": "",
     "parents": []
    }
   },
   "outputs": [
    {
     "data": {
      "text/plain": [
       "32"
      ]
     },
     "execution_count": 23,
     "metadata": {},
     "output_type": "execute_result"
    }
   ],
   "source": [
    "blr = cv2.GaussianBlur(img,(25,25),0)\n",
    "cv2.imshow(\"Blur\",blr)\n",
    "cv2.waitKey(0)"
   ]
  },
  {
   "cell_type": "code",
   "execution_count": 2,
   "id": "7612ab0f-4995-45a6-81fe-8fa60f236c53",
   "metadata": {
    "canvas": {
     "comments": [],
     "componentType": "CodeCell",
     "copiedOriginId": null,
     "diskcache": false,
     "headerColor": "transparent",
     "id": "8fc1da1a-7014-4919-a7d0-63a6003084e9",
     "isComponent": false,
     "name": "",
     "parents": []
    }
   },
   "outputs": [
    {
     "ename": "AttributeError",
     "evalue": "module 'cv2' has no attribute 'COLOR_RGB'",
     "output_type": "error",
     "traceback": [
      "\u001b[0;31m---------------------------------------------------------------------------\u001b[0m",
      "\u001b[0;31mAttributeError\u001b[0m                            Traceback (most recent call last)",
      "Cell \u001b[0;32mIn[2], line 15\u001b[0m\n\u001b[1;32m     13\u001b[0m    \u001b[38;5;28mprint\u001b[39m(\u001b[38;5;124m\"\u001b[39m\u001b[38;5;124merror in retrieving frame\u001b[39m\u001b[38;5;124m\"\u001b[39m)\n\u001b[1;32m     14\u001b[0m    \u001b[38;5;28;01mbreak\u001b[39;00m\n\u001b[0;32m---> 15\u001b[0m img \u001b[38;5;241m=\u001b[39m cv\u001b[38;5;241m.\u001b[39mcvtColor(frame, \u001b[43mcv\u001b[49m\u001b[38;5;241;43m.\u001b[39;49m\u001b[43mCOLOR_RGB\u001b[49m)\n\u001b[1;32m     16\u001b[0m cv\u001b[38;5;241m.\u001b[39mimshow(\u001b[38;5;124m'\u001b[39m\u001b[38;5;124mframe\u001b[39m\u001b[38;5;124m'\u001b[39m, img)\n\u001b[1;32m     17\u001b[0m file\u001b[38;5;241m.\u001b[39mwrite(img)\n",
      "\u001b[0;31mAttributeError\u001b[0m: module 'cv2' has no attribute 'COLOR_RGB'"
     ]
    }
   ],
   "source": [
    "import cv2 as cv\n",
    "cam = cv.VideoCapture(0)\n",
    "cc = cv.VideoWriter_fourcc(*'XVID')\n",
    "file = cv.VideoWriter('output.avi', cc, 15.0, (640, 480))\n",
    "if not cam.isOpened():\n",
    "   print(\"error opening camera\")\n",
    "   exit()\n",
    "while True:\n",
    "   # Capture frame-by-frame\n",
    "   ret, frame = cam.read()\n",
    "   # if frame is read correctly ret is True\n",
    "   if not ret:\n",
    "      print(\"error in retrieving frame\")\n",
    "      break\n",
    "   img = cv.cvtColor(frame, cv.COLOR_RGB)\n",
    "   cv.imshow('frame', img)\n",
    "   file.write(img)\n",
    "\n",
    "   \n",
    "   if cv.waitKey(1) == ord('q'):\n",
    "      break\n",
    "\n",
    "cam.release()\n",
    "file.release()\n",
    "cv.destroyAllWindows()"
   ]
  },
  {
   "cell_type": "code",
   "execution_count": 3,
   "id": "9e9c343a-8b4a-4ba4-91ef-073647243fff",
   "metadata": {
    "canvas": {
     "comments": [],
     "componentType": "CodeCell",
     "copiedOriginId": null,
     "diskcache": false,
     "headerColor": "transparent",
     "id": "fa97d148-f0eb-4217-aad9-4d08bfe7752e",
     "isComponent": false,
     "name": "",
     "parents": []
    }
   },
   "outputs": [
    {
     "name": "stderr",
     "output_type": "stream",
     "text": [
      "2023-08-22 21:34:52.604 python[6134:143285] Warning: Window move completed without beginning\n"
     ]
    }
   ],
   "source": [
    "\n",
    "# import the opencv library\n",
    "import cv2\n",
    "  \n",
    "  \n",
    "# define a video capture object\n",
    "vid = cv2.VideoCapture(0)\n",
    "  \n",
    "while(True):\n",
    "      \n",
    "    # Capture the video frame\n",
    "    # by frame\n",
    "    ret, frame = vid.read()\n",
    "  \n",
    "    # Display the resulting frame\n",
    "    cv2.imshow('frame', frame)\n",
    "      \n",
    "    # the 'q' button is set as the\n",
    "    # quitting button you may use any\n",
    "    # desired button of your choice\n",
    "    if cv2.waitKey(1) & 0xFF == ord('q'):\n",
    "        break\n",
    "  \n",
    "# After the loop release the cap object\n",
    "vid.release()\n",
    "# Destroy all the windows\n",
    "cv2.destroyAllWindows()"
   ]
  },
  {
   "cell_type": "code",
   "execution_count": null,
   "id": "83b1ffd0-efa0-4f01-ba9e-d8bc520cb79f",
   "metadata": {
    "canvas": {
     "comments": [],
     "componentType": "CodeCell",
     "copiedOriginId": null,
     "diskcache": false,
     "headerColor": "transparent",
     "id": "ce061bdc-4c03-4a82-89b2-e0ab17b542c1",
     "isComponent": false,
     "name": "",
     "parents": []
    }
   },
   "outputs": [],
   "source": []
  }
 ],
 "metadata": {
  "canvas": {
   "colorPalette": [
    "inherit",
    "inherit",
    "inherit",
    "inherit",
    "inherit",
    "inherit",
    "inherit",
    "inherit",
    "inherit",
    "inherit"
   ],
   "parameters": [],
   "version": "1.0"
  },
  "kernelspec": {
   "display_name": "Python 3 (ipykernel)",
   "language": "python",
   "name": "python3"
  },
  "language_info": {
   "codemirror_mode": {
    "name": "ipython",
    "version": 3
   },
   "file_extension": ".py",
   "mimetype": "text/x-python",
   "name": "python",
   "nbconvert_exporter": "python",
   "pygments_lexer": "ipython3",
   "version": "3.10.12"
  }
 },
 "nbformat": 4,
 "nbformat_minor": 5
}
