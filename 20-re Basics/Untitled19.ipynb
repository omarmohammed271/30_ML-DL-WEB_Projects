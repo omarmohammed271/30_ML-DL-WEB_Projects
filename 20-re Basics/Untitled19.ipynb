{
 "cells": [
  {
   "cell_type": "code",
   "execution_count": 1,
   "id": "e1ee8add-2134-4ddc-9565-6047f25ed009",
   "metadata": {
    "tags": []
   },
   "outputs": [],
   "source": [
    "import re"
   ]
  },
  {
   "cell_type": "code",
   "execution_count": 7,
   "id": "1ee69ebf-17e1-431c-98e3-007eccdc24eb",
   "metadata": {
    "tags": []
   },
   "outputs": [],
   "source": [
    "text = \"my name is mahmoud ali ahmed i am a python pythonista pythonic developer with over 12 years experience , i love coding , this is my email : pythondeveloper6@gmail.com \""
   ]
  },
  {
   "cell_type": "code",
   "execution_count": 3,
   "id": "1ea8cd1e-c352-440d-b705-206e2c79cbc7",
   "metadata": {
    "tags": []
   },
   "outputs": [
    {
     "data": {
      "text/plain": [
       "['me', 'me']"
      ]
     },
     "execution_count": 3,
     "metadata": {},
     "output_type": "execute_result"
    }
   ],
   "source": [
    "re.findall(\"me\",text)"
   ]
  },
  {
   "cell_type": "code",
   "execution_count": 5,
   "id": "28cb5584-76e8-429a-9087-603112b99756",
   "metadata": {
    "tags": []
   },
   "outputs": [
    {
     "data": {
      "text/plain": [
       "['python', 'python', 'python', 'python']"
      ]
     },
     "execution_count": 5,
     "metadata": {},
     "output_type": "execute_result"
    }
   ],
   "source": [
    "re.findall('python',text)"
   ]
  },
  {
   "cell_type": "code",
   "execution_count": 8,
   "id": "bc783c36-9a43-45ec-8ae1-9d61ad272291",
   "metadata": {
    "tags": []
   },
   "outputs": [
    {
     "data": {
      "text/plain": [
       "['mahmoud', 'ali']"
      ]
     },
     "execution_count": 8,
     "metadata": {},
     "output_type": "execute_result"
    }
   ],
   "source": [
    "re.findall(\"ali|mahmoud\",text)"
   ]
  },
  {
   "cell_type": "code",
   "execution_count": 10,
   "id": "4c5a104b-eac8-42fc-8e25-50d4a4cbc23d",
   "metadata": {
    "tags": []
   },
   "outputs": [],
   "source": [
    "str = re.search('experience',text)"
   ]
  },
  {
   "cell_type": "code",
   "execution_count": 11,
   "id": "44e2b65e-69ce-4046-8d04-c84812740cf9",
   "metadata": {
    "tags": []
   },
   "outputs": [
    {
     "data": {
      "text/plain": [
       "(92, 102)"
      ]
     },
     "execution_count": 11,
     "metadata": {},
     "output_type": "execute_result"
    }
   ],
   "source": [
    "str.span()"
   ]
  },
  {
   "cell_type": "code",
   "execution_count": 13,
   "id": "0672a30b-1fff-41f6-b1ed-8ebfa422147b",
   "metadata": {
    "tags": []
   },
   "outputs": [
    {
     "data": {
      "text/plain": [
       "'experience'"
      ]
     },
     "execution_count": 13,
     "metadata": {},
     "output_type": "execute_result"
    }
   ],
   "source": [
    "text[92:102]"
   ]
  },
  {
   "cell_type": "code",
   "execution_count": 15,
   "id": "c29e9db1-b8f6-4779-a5dd-c4a9a2ab9841",
   "metadata": {
    "tags": []
   },
   "outputs": [
    {
     "data": {
      "text/plain": [
       "92"
      ]
     },
     "execution_count": 15,
     "metadata": {},
     "output_type": "execute_result"
    }
   ],
   "source": [
    "str.start()"
   ]
  },
  {
   "cell_type": "code",
   "execution_count": 16,
   "id": "ae22dc24-714f-467b-a110-b88592e5c6bc",
   "metadata": {
    "tags": []
   },
   "outputs": [
    {
     "data": {
      "text/plain": [
       "102"
      ]
     },
     "execution_count": 16,
     "metadata": {},
     "output_type": "execute_result"
    }
   ],
   "source": [
    "str.end()"
   ]
  },
  {
   "cell_type": "code",
   "execution_count": 17,
   "id": "d894e51a-fd71-4279-9686-f54a2d2f0d1f",
   "metadata": {
    "tags": []
   },
   "outputs": [],
   "source": [
    "result = re.findall('python',text)"
   ]
  },
  {
   "cell_type": "code",
   "execution_count": 18,
   "id": "654fa662-a6a7-40de-a0d6-2c62f2a127c5",
   "metadata": {
    "tags": []
   },
   "outputs": [
    {
     "data": {
      "text/plain": [
       "4"
      ]
     },
     "execution_count": 18,
     "metadata": {},
     "output_type": "execute_result"
    }
   ],
   "source": [
    "len(result)"
   ]
  },
  {
   "cell_type": "code",
   "execution_count": 19,
   "id": "d0169e33-a6f4-448f-a3fd-c11ef9774dd0",
   "metadata": {
    "tags": []
   },
   "outputs": [
    {
     "name": "stdout",
     "output_type": "stream",
     "text": [
      "(36, 42)\n",
      "(43, 49)\n",
      "(54, 60)\n",
      "(140, 146)\n"
     ]
    }
   ],
   "source": [
    "for x in re.finditer('python',text):\n",
    "    print(x.span())"
   ]
  },
  {
   "cell_type": "code",
   "execution_count": 32,
   "id": "88a95a17-0244-49c8-a2c9-be4b28010526",
   "metadata": {
    "tags": []
   },
   "outputs": [],
   "source": [
    "text = ''' my name is mahmoud      ali ahmed\n",
    "        i am a python pythonista pythonic developer      with over 12 years experience , \n",
    "        i've good skills\n",
    "        i love coding       , \n",
    "        this is my       email : pythondeveloper6@gmail.com \n",
    "        my website : https://www.google.com\n",
    "        my phone number 01012311747\n",
    "        my other phone number 02-555-06\n",
    "        \n",
    "        '''"
   ]
  },
  {
   "cell_type": "code",
   "execution_count": 22,
   "id": "962206e0-aa21-4d25-9088-25575a188031",
   "metadata": {
    "tags": []
   },
   "outputs": [
    {
     "data": {
      "text/plain": [
       "' my name is mahmoud ali ahmed i am a python pythonista pythonic developer with over 12 years experience , i love coding , this is my email : pythondeveloper6@gmail.com '"
      ]
     },
     "execution_count": 22,
     "metadata": {},
     "output_type": "execute_result"
    }
   ],
   "source": [
    "result = re.sub(r\"\\s+\",\" \",text)\n",
    "result"
   ]
  },
  {
   "cell_type": "code",
   "execution_count": 24,
   "id": "20688ab3-bf9d-4d8a-8443-bbba8937df51",
   "metadata": {
    "tags": []
   },
   "outputs": [
    {
     "data": {
      "text/plain": [
       "' my name is mahmoud      ali ahmed\\n        i am a python pythonista pythonic developer      with over 12 years experience , \\n        i love coding       , \\n        this is my       email : pythondeveloper6@gmail.com \\n        my website : URL\\n        my phone number 01012311747\\n        my other phone number 02-555-06\\n        \\n        '"
      ]
     },
     "execution_count": 24,
     "metadata": {},
     "output_type": "execute_result"
    }
   ],
   "source": [
    "result = re.sub(r'http\\S+',\"URL\",text)\n",
    "result"
   ]
  },
  {
   "cell_type": "code",
   "execution_count": 25,
   "id": "b28141fb-8d54-468f-a6e2-09ad6fa30d2e",
   "metadata": {
    "tags": []
   },
   "outputs": [
    {
     "data": {
      "text/plain": [
       "' my name is mahmoud      ali ahmed\\n        i am a python pythonista pythonic developer      with over 12 years experience , \\n        i love coding       , \\n        this is my       email : pythondeveloper6@gmail.com \\n        my website : https://www.google.com\\n        my phone number 01012311747\\n        my other phone number XXXXXXXXXXX\\n        \\n        '"
      ]
     },
     "execution_count": 25,
     "metadata": {},
     "output_type": "execute_result"
    }
   ],
   "source": [
    "result = re.sub(r\"\\d{2}-\\d{3}-\\d{2}\",'XXXXXXXXXXX',text)\n",
    "result"
   ]
  },
  {
   "cell_type": "code",
   "execution_count": 26,
   "id": "e2fd2c6d-4a67-438f-9613-5504d142c63c",
   "metadata": {
    "tags": []
   },
   "outputs": [
    {
     "data": {
      "text/plain": [
       "' my name is mahmoud      ali ahmed\\n        i am a python pythonista pythonic developer      with over 12 years experience , \\n        i love coding       , \\n        this is my       email : pythondeveloper6@gmail.com \\n        my website : https://www.google.com\\n        my phone number XXXXXXXXXXX\\n        my other phone number 02-555-06\\n        \\n        '"
      ]
     },
     "execution_count": 26,
     "metadata": {},
     "output_type": "execute_result"
    }
   ],
   "source": [
    "result = re.sub(r\"\\d{11}\",'XXXXXXXXXXX',text)\n",
    "result"
   ]
  },
  {
   "cell_type": "code",
   "execution_count": 27,
   "id": "735b04fc-3c90-4b0e-a5b6-c6d89dfd4dbd",
   "metadata": {
    "tags": []
   },
   "outputs": [
    {
     "data": {
      "text/plain": [
       "' my name is mahmoud      ali ahmed\\n        i am a python pythonista pythonic developer      with over 12 years experience , \\n        i love coding       , \\n        this is my       email : EMAIL \\n        my website : https://www.google.com\\n        my phone number 01012311747\\n        my other phone number 02-555-06\\n        \\n        '"
      ]
     },
     "execution_count": 27,
     "metadata": {},
     "output_type": "execute_result"
    }
   ],
   "source": [
    "result = re.sub(r\"\\S+@gmail.com\",'EMAIL',text)\n",
    "result"
   ]
  },
  {
   "cell_type": "code",
   "execution_count": 28,
   "id": "24f8c94e-5a8c-4372-996f-17b9fdea1d7f",
   "metadata": {
    "tags": []
   },
   "outputs": [],
   "source": [
    "text = text.lower()"
   ]
  },
  {
   "cell_type": "code",
   "execution_count": 30,
   "id": "08b5e457-ca68-44ab-9fe7-71f16ad9b70d",
   "metadata": {
    "tags": []
   },
   "outputs": [
    {
     "data": {
      "text/plain": [
       "' my name is mahmoud      ali ahmed\\n        i am a python pythonista pythonic developer      with over 12 years experience , \\n        i have good skills\\n        i love coding       , \\n        this is my       email : pythondeveloper6@gmail.com \\n        my website : https://www.google.com\\n        my phone number 01012311747\\n        my other phone number 02-555-06\\n        \\n        '"
      ]
     },
     "execution_count": 30,
     "metadata": {},
     "output_type": "execute_result"
    }
   ],
   "source": [
    "result = re.sub(r\"i've\",'i have',text)\n",
    "result"
   ]
  },
  {
   "cell_type": "code",
   "execution_count": 31,
   "id": "e996c2fd-00af-4b80-8e3b-d84021325300",
   "metadata": {
    "tags": []
   },
   "outputs": [],
   "source": [
    "def clean_text(text):\n",
    "    result = re.sub(r\"\\s+\",\" \",text)\n",
    "    result = re.sub(r'http\\S+',\"URL\",result)\n",
    "    result = re.sub(r\"\\d{2}-\\d{3}-\\d{2}\",'XXXXXXXXXXX',result)\n",
    "    result = re.sub(r\"\\d{11}\",'XXXXXXXXXXX',result)\n",
    "    result = re.sub(r\"\\S+@gmail.com\",'EMAIL',result)\n",
    "    result = result.lower()\n",
    "    result = re.sub(r\"i've\",'i have',result)\n",
    "    return result"
   ]
  },
  {
   "cell_type": "code",
   "execution_count": 33,
   "id": "387c57b5-eb04-4aa9-b1fe-2ab7797b0959",
   "metadata": {
    "tags": []
   },
   "outputs": [
    {
     "name": "stdout",
     "output_type": "stream",
     "text": [
      " my name is mahmoud ali ahmed i am a python pythonista pythonic developer with over 12 years experience , i have good skills i love coding , this is my email : email my website : url my phone number xxxxxxxxxxx my other phone number xxxxxxxxxxx \n"
     ]
    }
   ],
   "source": [
    "print(clean_text(text))"
   ]
  },
  {
   "cell_type": "code",
   "execution_count": null,
   "id": "6a73c6fd-523f-49d7-b8ec-d702c2abf7b0",
   "metadata": {},
   "outputs": [],
   "source": []
  }
 ],
 "metadata": {
  "kernelspec": {
   "display_name": "Python 3 (ipykernel)",
   "language": "python",
   "name": "python3"
  },
  "language_info": {
   "codemirror_mode": {
    "name": "ipython",
    "version": 3
   },
   "file_extension": ".py",
   "mimetype": "text/x-python",
   "name": "python",
   "nbconvert_exporter": "python",
   "pygments_lexer": "ipython3",
   "version": "3.9.13"
  }
 },
 "nbformat": 4,
 "nbformat_minor": 5
}
