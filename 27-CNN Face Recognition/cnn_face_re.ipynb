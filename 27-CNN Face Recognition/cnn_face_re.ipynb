{
 "cells": [
  {
   "cell_type": "code",
   "execution_count": 1,
   "id": "ca45fc01-c1eb-4fd5-b0ef-87c5b456d9ca",
   "metadata": {
    "canvas": {
     "comments": [],
     "componentType": "CodeCell",
     "copiedOriginId": null,
     "diskcache": false,
     "headerColor": "transparent",
     "id": "113a38ff-ca7b-4940-87e7-ad7283781940",
     "isComponent": false,
     "name": "",
     "parents": []
    },
    "tags": []
   },
   "outputs": [],
   "source": [
    "import os\n",
    "import cv2\n",
    "import random\n",
    "import numpy as np\n",
    "import pandas as pd\n",
    "import seaborn as sns\n",
    "import tensorflow as tf\n",
    "from tensorflow import keras\n",
    "import matplotlib.pyplot as plt\n",
    "import matplotlib.image as mpimg\n",
    "from keras.models import Sequential\n",
    "from tensorflow.keras import regularizers as reg\n",
    "from tensorflow.keras.utils import to_categorical\n",
    "from tensorflow.keras.preprocessing.image import ImageDataGenerator\n",
    "from sklearn.metrics import accuracy_score, confusion_matrix, classification_report\n",
    "from keras.layers import Dense, Conv2D, MaxPooling2D, ZeroPadding2D, Flatten, GlobalAveragePooling2D, InputLayer, Dropout, SpatialDropout2D, BatchNormalization, Resizing, Rescaling, RandomFlip, RandomRotation"
   ]
  },
  {
   "cell_type": "code",
   "execution_count": 2,
   "id": "4d320f7f-a1a2-4712-a9b2-b100edcf1c65",
   "metadata": {
    "canvas": {
     "comments": [],
     "componentType": "CodeCell",
     "copiedOriginId": null,
     "diskcache": false,
     "headerColor": "transparent",
     "id": "83bd1ad2-60bf-4ac9-a950-cb7adec3d7c8",
     "isComponent": false,
     "name": "",
     "parents": []
    }
   },
   "outputs": [],
   "source": [
    "# Image Configuration \n",
    "batch_size = 32\n",
    "\n",
    "# Images Dirs \n",
    "train_dir = 'data/train'\n",
    "test_dir = 'data/test'"
   ]
  },
  {
   "cell_type": "code",
   "execution_count": 3,
   "id": "afffbaf4-5987-45b7-9381-b3e02a6ceb93",
   "metadata": {
    "canvas": {
     "comments": [],
     "componentType": "CodeCell",
     "copiedOriginId": null,
     "diskcache": false,
     "headerColor": "transparent",
     "id": "4fc5cc10-4fe9-4b08-8e7d-95934fd60f6b",
     "isComponent": false,
     "name": "",
     "parents": []
    }
   },
   "outputs": [],
   "source": [
    "## image generator \n",
    "train_data_gen = ImageDataGenerator(rescale=1./255)\n",
    "validation_data_gen = ImageDataGenerator(rescale=1./255)"
   ]
  },
  {
   "cell_type": "code",
   "execution_count": 4,
   "id": "158152f9-40ba-4178-9b55-143485780b4b",
   "metadata": {
    "canvas": {
     "comments": [],
     "componentType": "CodeCell",
     "copiedOriginId": null,
     "diskcache": false,
     "headerColor": "transparent",
     "id": "dc0e61fa-3b7b-4843-9497-69f4362931eb",
     "isComponent": false,
     "name": "",
     "parents": []
    }
   },
   "outputs": [
    {
     "name": "stdout",
     "output_type": "stream",
     "text": [
      "Found 274 images belonging to 5 classes.\n",
      "Found 180 images belonging to 5 classes.\n"
     ]
    }
   ],
   "source": [
    "# Preprocess all test images\n",
    "train_generator = train_data_gen.flow_from_directory(\n",
    "        train_dir,\n",
    "        target_size=(200, 200),\n",
    "        batch_size=64,\n",
    "        color_mode=\"grayscale\",\n",
    "        class_mode='categorical')\n",
    "\n",
    "# Preprocess all train images\n",
    "test_generator = validation_data_gen.flow_from_directory(\n",
    "        test_dir,\n",
    "        target_size=(200, 200),\n",
    "        batch_size=64,\n",
    "        color_mode=\"grayscale\",\n",
    "        class_mode='categorical')"
   ]
  },
  {
   "cell_type": "code",
   "execution_count": 5,
   "id": "512af742-f99d-4e8e-a2e6-ce0cda7b65e7",
   "metadata": {
    "canvas": {
     "comments": [],
     "componentType": "CodeCell",
     "copiedOriginId": null,
     "diskcache": false,
     "headerColor": "transparent",
     "id": "48d8c12b-84c2-4ebd-835c-db169f283d0a",
     "isComponent": false,
     "name": "",
     "parents": []
    }
   },
   "outputs": [
    {
     "name": "stdout",
     "output_type": "stream",
     "text": [
      "['chris_evans', 'chris_hemsworth', 'mark_ruffalo', 'robert_downey_jr', 'scarlett_johansson']\n"
     ]
    }
   ],
   "source": [
    "class_names = list(train_generator.class_indices.keys())\n",
    "print(class_names)"
   ]
  },
  {
   "cell_type": "code",
   "execution_count": 6,
   "id": "fa5e7f5e-f13f-40ef-9a33-0391e129ee9e",
   "metadata": {
    "canvas": {
     "comments": [],
     "componentType": "CodeCell",
     "copiedOriginId": null,
     "diskcache": false,
     "headerColor": "transparent",
     "id": "67cd5f82-44ae-4f67-9d6c-6eaa19162757",
     "isComponent": false,
     "name": "",
     "parents": []
    }
   },
   "outputs": [
    {
     "name": "stderr",
     "output_type": "stream",
     "text": [
      "/var/folders/21/f04jhrl502sbf8zzw0k0kgdw0000gn/T/ipykernel_2181/38885059.py:25: UserWarning: `Model.fit_generator` is deprecated and will be removed in a future version. Please use `Model.fit`, which supports generators.\n",
      "  model_info = model.fit_generator(\n"
     ]
    },
    {
     "name": "stdout",
     "output_type": "stream",
     "text": [
      "Epoch 1/20\n",
      "5/5 [==============================] - 4s 625ms/step - loss: 4.3183 - accuracy: 0.2153 - val_loss: 1.6053 - val_accuracy: 0.3611\n",
      "Epoch 2/20\n",
      "5/5 [==============================] - 2s 420ms/step - loss: 1.6094 - accuracy: 0.2336 - val_loss: 1.5570 - val_accuracy: 0.4722\n",
      "Epoch 3/20\n",
      "5/5 [==============================] - 2s 423ms/step - loss: 1.5926 - accuracy: 0.2409 - val_loss: 1.5035 - val_accuracy: 0.3667\n",
      "Epoch 4/20\n",
      "5/5 [==============================] - 2s 418ms/step - loss: 1.6009 - accuracy: 0.3029 - val_loss: 1.5622 - val_accuracy: 0.5667\n",
      "Epoch 5/20\n",
      "5/5 [==============================] - 2s 402ms/step - loss: 1.5738 - accuracy: 0.3066 - val_loss: 1.5244 - val_accuracy: 0.5389\n",
      "Epoch 6/20\n",
      "5/5 [==============================] - 2s 405ms/step - loss: 1.4714 - accuracy: 0.4124 - val_loss: 1.3670 - val_accuracy: 0.6778\n",
      "Epoch 7/20\n",
      "5/5 [==============================] - 2s 405ms/step - loss: 1.3320 - accuracy: 0.5401 - val_loss: 0.8830 - val_accuracy: 0.7056\n",
      "Epoch 8/20\n",
      "5/5 [==============================] - 2s 407ms/step - loss: 1.0833 - accuracy: 0.6095 - val_loss: 0.7904 - val_accuracy: 0.7667\n",
      "Epoch 9/20\n",
      "5/5 [==============================] - 2s 425ms/step - loss: 0.8526 - accuracy: 0.7044 - val_loss: 0.5506 - val_accuracy: 0.8778\n",
      "Epoch 10/20\n",
      "5/5 [==============================] - 2s 415ms/step - loss: 0.7354 - accuracy: 0.7409 - val_loss: 0.4847 - val_accuracy: 0.8778\n",
      "Epoch 11/20\n",
      "5/5 [==============================] - 2s 408ms/step - loss: 0.5398 - accuracy: 0.8102 - val_loss: 0.2310 - val_accuracy: 0.9278\n",
      "Epoch 12/20\n",
      "5/5 [==============================] - 2s 404ms/step - loss: 0.3690 - accuracy: 0.8686 - val_loss: 0.2604 - val_accuracy: 0.9333\n",
      "Epoch 13/20\n",
      "5/5 [==============================] - 2s 408ms/step - loss: 0.3263 - accuracy: 0.8869 - val_loss: 0.1207 - val_accuracy: 0.9833\n",
      "Epoch 14/20\n",
      "5/5 [==============================] - 2s 407ms/step - loss: 0.2842 - accuracy: 0.9015 - val_loss: 0.1008 - val_accuracy: 0.9722\n",
      "Epoch 15/20\n",
      "5/5 [==============================] - 2s 407ms/step - loss: 0.1400 - accuracy: 0.9599 - val_loss: 0.0389 - val_accuracy: 0.9944\n",
      "Epoch 16/20\n",
      "5/5 [==============================] - 2s 402ms/step - loss: 0.0803 - accuracy: 0.9891 - val_loss: 0.0470 - val_accuracy: 0.9889\n",
      "Epoch 17/20\n",
      "5/5 [==============================] - 2s 407ms/step - loss: 0.0799 - accuracy: 0.9818 - val_loss: 0.0204 - val_accuracy: 0.9889\n",
      "Epoch 18/20\n",
      "5/5 [==============================] - 2s 408ms/step - loss: 0.0510 - accuracy: 0.9818 - val_loss: 0.0037 - val_accuracy: 1.0000\n",
      "Epoch 19/20\n",
      "5/5 [==============================] - 2s 414ms/step - loss: 0.0600 - accuracy: 0.9745 - val_loss: 0.0562 - val_accuracy: 0.9889\n",
      "Epoch 20/20\n",
      "5/5 [==============================] - 2s 408ms/step - loss: 0.0851 - accuracy: 0.9708 - val_loss: 0.0376 - val_accuracy: 1.0000\n"
     ]
    }
   ],
   "source": [
    "# create model structure\n",
    "model = Sequential()\n",
    "\n",
    "model.add(Conv2D(32, kernel_size=(3, 3), activation='relu', input_shape=(200, 200, 1)))\n",
    "model.add(Conv2D(64, kernel_size=(3, 3), activation='relu'))\n",
    "model.add(MaxPooling2D(pool_size=(2, 2)))\n",
    "model.add(Dropout(0.25))\n",
    "\n",
    "model.add(Conv2D(128, kernel_size=(3, 3), activation='relu'))\n",
    "model.add(MaxPooling2D(pool_size=(2, 2)))\n",
    "model.add(Conv2D(128, kernel_size=(3, 3), activation='relu'))\n",
    "model.add(MaxPooling2D(pool_size=(2, 2)))\n",
    "model.add(Dropout(0.25))\n",
    "\n",
    "model.add(Flatten())\n",
    "model.add(Dense(1024, activation='relu'))\n",
    "model.add(Dropout(0.5))\n",
    "model.add(Dense(5, activation='softmax'))\n",
    "\n",
    "cv2.ocl.setUseOpenCL(False)\n",
    "\n",
    "model.compile(loss='categorical_crossentropy', optimizer='adam', metrics=['accuracy'])\n",
    "\n",
    "# Train the neural network/model\n",
    "model_info = model.fit_generator(\n",
    "        train_generator,\n",
    "        epochs=20,\n",
    "        validation_data=test_generator,\n",
    ")"
   ]
  },
  {
   "cell_type": "code",
   "execution_count": null,
   "id": "1a879d2e-529c-43e2-b99e-68d3dea91396",
   "metadata": {
    "canvas": {
     "comments": [],
     "componentType": "CodeCell",
     "copiedOriginId": null,
     "diskcache": false,
     "headerColor": "transparent",
     "id": "83f78960-f7a4-4c46-a0cf-bd20543e920c",
     "isComponent": false,
     "name": "",
     "parents": []
    }
   },
   "outputs": [],
   "source": [
    "# save model structure in jason file\n",
    "model_json = model.to_json()\n",
    "with open(\"cnn_model.json\", \"w\") as json_file:\n",
    "    json_file.write(model_json)\n",
    "\n",
    "# save trained model weight in .h5 file\n",
    "model.save_weights('cnn_model.h5')"
   ]
  }
 ],
 "metadata": {
  "canvas": {
   "colorPalette": [
    "inherit",
    "inherit",
    "inherit",
    "inherit",
    "inherit",
    "inherit",
    "inherit",
    "inherit",
    "inherit",
    "inherit"
   ],
   "parameters": [],
   "version": "1.0"
  },
  "kernelspec": {
   "display_name": "Python 3 (ipykernel)",
   "language": "python",
   "name": "python3"
  },
  "language_info": {
   "codemirror_mode": {
    "name": "ipython",
    "version": 3
   },
   "file_extension": ".py",
   "mimetype": "text/x-python",
   "name": "python",
   "nbconvert_exporter": "python",
   "pygments_lexer": "ipython3",
   "version": "3.10.12"
  }
 },
 "nbformat": 4,
 "nbformat_minor": 5
}
